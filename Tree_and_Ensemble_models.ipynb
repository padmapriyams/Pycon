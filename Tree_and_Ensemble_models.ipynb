{
 "cells": [
  {
   "cell_type": "code",
   "execution_count": 1,
   "metadata": {},
   "outputs": [],
   "source": [
    "import numpy as np\n",
    "import pandas as pd\n"
   ]
  },
  {
   "cell_type": "markdown",
   "metadata": {},
   "source": [
    "### Basic Data Exploration"
   ]
  },
  {
   "cell_type": "code",
   "execution_count": 2,
   "metadata": {},
   "outputs": [],
   "source": [
    "credit_df = pd.read_csv(\"credit.csv\")"
   ]
  },
  {
   "cell_type": "code",
   "execution_count": 3,
   "metadata": {},
   "outputs": [
    {
     "data": {
      "text/html": [
       "<div>\n",
       "<style scoped>\n",
       "    .dataframe tbody tr th:only-of-type {\n",
       "        vertical-align: middle;\n",
       "    }\n",
       "\n",
       "    .dataframe tbody tr th {\n",
       "        vertical-align: top;\n",
       "    }\n",
       "\n",
       "    .dataframe thead th {\n",
       "        text-align: right;\n",
       "    }\n",
       "</style>\n",
       "<table border=\"1\" class=\"dataframe\">\n",
       "  <thead>\n",
       "    <tr style=\"text-align: right;\">\n",
       "      <th></th>\n",
       "      <th>count</th>\n",
       "      <th>mean</th>\n",
       "      <th>std</th>\n",
       "      <th>min</th>\n",
       "      <th>25%</th>\n",
       "      <th>50%</th>\n",
       "      <th>75%</th>\n",
       "      <th>max</th>\n",
       "    </tr>\n",
       "  </thead>\n",
       "  <tbody>\n",
       "    <tr>\n",
       "      <th>months_loan_duration</th>\n",
       "      <td>1000.0</td>\n",
       "      <td>20.903</td>\n",
       "      <td>12.058814</td>\n",
       "      <td>4.0</td>\n",
       "      <td>12.0</td>\n",
       "      <td>18.0</td>\n",
       "      <td>24.00</td>\n",
       "      <td>72.0</td>\n",
       "    </tr>\n",
       "    <tr>\n",
       "      <th>amount</th>\n",
       "      <td>1000.0</td>\n",
       "      <td>3271.258</td>\n",
       "      <td>2822.736876</td>\n",
       "      <td>250.0</td>\n",
       "      <td>1365.5</td>\n",
       "      <td>2319.5</td>\n",
       "      <td>3972.25</td>\n",
       "      <td>18424.0</td>\n",
       "    </tr>\n",
       "    <tr>\n",
       "      <th>percent_of_income</th>\n",
       "      <td>1000.0</td>\n",
       "      <td>2.973</td>\n",
       "      <td>1.118715</td>\n",
       "      <td>1.0</td>\n",
       "      <td>2.0</td>\n",
       "      <td>3.0</td>\n",
       "      <td>4.00</td>\n",
       "      <td>4.0</td>\n",
       "    </tr>\n",
       "    <tr>\n",
       "      <th>years_at_residence</th>\n",
       "      <td>1000.0</td>\n",
       "      <td>2.845</td>\n",
       "      <td>1.103718</td>\n",
       "      <td>1.0</td>\n",
       "      <td>2.0</td>\n",
       "      <td>3.0</td>\n",
       "      <td>4.00</td>\n",
       "      <td>4.0</td>\n",
       "    </tr>\n",
       "    <tr>\n",
       "      <th>age</th>\n",
       "      <td>1000.0</td>\n",
       "      <td>35.546</td>\n",
       "      <td>11.375469</td>\n",
       "      <td>19.0</td>\n",
       "      <td>27.0</td>\n",
       "      <td>33.0</td>\n",
       "      <td>42.00</td>\n",
       "      <td>75.0</td>\n",
       "    </tr>\n",
       "    <tr>\n",
       "      <th>existing_loans_count</th>\n",
       "      <td>1000.0</td>\n",
       "      <td>1.407</td>\n",
       "      <td>0.577654</td>\n",
       "      <td>1.0</td>\n",
       "      <td>1.0</td>\n",
       "      <td>1.0</td>\n",
       "      <td>2.00</td>\n",
       "      <td>4.0</td>\n",
       "    </tr>\n",
       "    <tr>\n",
       "      <th>dependents</th>\n",
       "      <td>1000.0</td>\n",
       "      <td>1.155</td>\n",
       "      <td>0.362086</td>\n",
       "      <td>1.0</td>\n",
       "      <td>1.0</td>\n",
       "      <td>1.0</td>\n",
       "      <td>1.00</td>\n",
       "      <td>2.0</td>\n",
       "    </tr>\n",
       "  </tbody>\n",
       "</table>\n",
       "</div>"
      ],
      "text/plain": [
       "                       count      mean          std    min     25%     50%  \\\n",
       "months_loan_duration  1000.0    20.903    12.058814    4.0    12.0    18.0   \n",
       "amount                1000.0  3271.258  2822.736876  250.0  1365.5  2319.5   \n",
       "percent_of_income     1000.0     2.973     1.118715    1.0     2.0     3.0   \n",
       "years_at_residence    1000.0     2.845     1.103718    1.0     2.0     3.0   \n",
       "age                   1000.0    35.546    11.375469   19.0    27.0    33.0   \n",
       "existing_loans_count  1000.0     1.407     0.577654    1.0     1.0     1.0   \n",
       "dependents            1000.0     1.155     0.362086    1.0     1.0     1.0   \n",
       "\n",
       "                          75%      max  \n",
       "months_loan_duration    24.00     72.0  \n",
       "amount                3972.25  18424.0  \n",
       "percent_of_income        4.00      4.0  \n",
       "years_at_residence       4.00      4.0  \n",
       "age                     42.00     75.0  \n",
       "existing_loans_count     2.00      4.0  \n",
       "dependents               1.00      2.0  "
      ]
     },
     "execution_count": 3,
     "metadata": {},
     "output_type": "execute_result"
    }
   ],
   "source": [
    "credit_df.describe().transpose()"
   ]
  },
  {
   "cell_type": "code",
   "execution_count": 4,
   "metadata": {
    "scrolled": false
   },
   "outputs": [
    {
     "data": {
      "text/html": [
       "<div>\n",
       "<style scoped>\n",
       "    .dataframe tbody tr th:only-of-type {\n",
       "        vertical-align: middle;\n",
       "    }\n",
       "\n",
       "    .dataframe tbody tr th {\n",
       "        vertical-align: top;\n",
       "    }\n",
       "\n",
       "    .dataframe thead th {\n",
       "        text-align: right;\n",
       "    }\n",
       "</style>\n",
       "<table border=\"1\" class=\"dataframe\">\n",
       "  <thead>\n",
       "    <tr style=\"text-align: right;\">\n",
       "      <th></th>\n",
       "      <th>checking_balance</th>\n",
       "      <th>months_loan_duration</th>\n",
       "      <th>credit_history</th>\n",
       "      <th>purpose</th>\n",
       "      <th>amount</th>\n",
       "      <th>savings_balance</th>\n",
       "      <th>employment_duration</th>\n",
       "      <th>percent_of_income</th>\n",
       "      <th>years_at_residence</th>\n",
       "      <th>age</th>\n",
       "      <th>other_credit</th>\n",
       "      <th>housing</th>\n",
       "      <th>existing_loans_count</th>\n",
       "      <th>job</th>\n",
       "      <th>dependents</th>\n",
       "      <th>phone</th>\n",
       "      <th>default</th>\n",
       "    </tr>\n",
       "  </thead>\n",
       "  <tbody>\n",
       "    <tr>\n",
       "      <th>0</th>\n",
       "      <td>&lt; 0 DM</td>\n",
       "      <td>6</td>\n",
       "      <td>critical</td>\n",
       "      <td>furniture/appliances</td>\n",
       "      <td>1169</td>\n",
       "      <td>unknown</td>\n",
       "      <td>&gt; 7 years</td>\n",
       "      <td>4</td>\n",
       "      <td>4</td>\n",
       "      <td>67</td>\n",
       "      <td>none</td>\n",
       "      <td>own</td>\n",
       "      <td>2</td>\n",
       "      <td>skilled</td>\n",
       "      <td>1</td>\n",
       "      <td>yes</td>\n",
       "      <td>no</td>\n",
       "    </tr>\n",
       "    <tr>\n",
       "      <th>1</th>\n",
       "      <td>1 - 200 DM</td>\n",
       "      <td>48</td>\n",
       "      <td>good</td>\n",
       "      <td>furniture/appliances</td>\n",
       "      <td>5951</td>\n",
       "      <td>&lt; 100 DM</td>\n",
       "      <td>1 - 4 years</td>\n",
       "      <td>2</td>\n",
       "      <td>2</td>\n",
       "      <td>22</td>\n",
       "      <td>none</td>\n",
       "      <td>own</td>\n",
       "      <td>1</td>\n",
       "      <td>skilled</td>\n",
       "      <td>1</td>\n",
       "      <td>no</td>\n",
       "      <td>yes</td>\n",
       "    </tr>\n",
       "    <tr>\n",
       "      <th>2</th>\n",
       "      <td>unknown</td>\n",
       "      <td>12</td>\n",
       "      <td>critical</td>\n",
       "      <td>education</td>\n",
       "      <td>2096</td>\n",
       "      <td>&lt; 100 DM</td>\n",
       "      <td>4 - 7 years</td>\n",
       "      <td>2</td>\n",
       "      <td>3</td>\n",
       "      <td>49</td>\n",
       "      <td>none</td>\n",
       "      <td>own</td>\n",
       "      <td>1</td>\n",
       "      <td>unskilled</td>\n",
       "      <td>2</td>\n",
       "      <td>no</td>\n",
       "      <td>no</td>\n",
       "    </tr>\n",
       "    <tr>\n",
       "      <th>3</th>\n",
       "      <td>&lt; 0 DM</td>\n",
       "      <td>42</td>\n",
       "      <td>good</td>\n",
       "      <td>furniture/appliances</td>\n",
       "      <td>7882</td>\n",
       "      <td>&lt; 100 DM</td>\n",
       "      <td>4 - 7 years</td>\n",
       "      <td>2</td>\n",
       "      <td>4</td>\n",
       "      <td>45</td>\n",
       "      <td>none</td>\n",
       "      <td>other</td>\n",
       "      <td>1</td>\n",
       "      <td>skilled</td>\n",
       "      <td>2</td>\n",
       "      <td>no</td>\n",
       "      <td>no</td>\n",
       "    </tr>\n",
       "    <tr>\n",
       "      <th>4</th>\n",
       "      <td>&lt; 0 DM</td>\n",
       "      <td>24</td>\n",
       "      <td>poor</td>\n",
       "      <td>car</td>\n",
       "      <td>4870</td>\n",
       "      <td>&lt; 100 DM</td>\n",
       "      <td>1 - 4 years</td>\n",
       "      <td>3</td>\n",
       "      <td>4</td>\n",
       "      <td>53</td>\n",
       "      <td>none</td>\n",
       "      <td>other</td>\n",
       "      <td>2</td>\n",
       "      <td>skilled</td>\n",
       "      <td>2</td>\n",
       "      <td>no</td>\n",
       "      <td>yes</td>\n",
       "    </tr>\n",
       "    <tr>\n",
       "      <th>5</th>\n",
       "      <td>unknown</td>\n",
       "      <td>36</td>\n",
       "      <td>good</td>\n",
       "      <td>education</td>\n",
       "      <td>9055</td>\n",
       "      <td>unknown</td>\n",
       "      <td>1 - 4 years</td>\n",
       "      <td>2</td>\n",
       "      <td>4</td>\n",
       "      <td>35</td>\n",
       "      <td>none</td>\n",
       "      <td>other</td>\n",
       "      <td>1</td>\n",
       "      <td>unskilled</td>\n",
       "      <td>2</td>\n",
       "      <td>yes</td>\n",
       "      <td>no</td>\n",
       "    </tr>\n",
       "    <tr>\n",
       "      <th>6</th>\n",
       "      <td>unknown</td>\n",
       "      <td>24</td>\n",
       "      <td>good</td>\n",
       "      <td>furniture/appliances</td>\n",
       "      <td>2835</td>\n",
       "      <td>500 - 1000 DM</td>\n",
       "      <td>&gt; 7 years</td>\n",
       "      <td>3</td>\n",
       "      <td>4</td>\n",
       "      <td>53</td>\n",
       "      <td>none</td>\n",
       "      <td>own</td>\n",
       "      <td>1</td>\n",
       "      <td>skilled</td>\n",
       "      <td>1</td>\n",
       "      <td>no</td>\n",
       "      <td>no</td>\n",
       "    </tr>\n",
       "    <tr>\n",
       "      <th>7</th>\n",
       "      <td>1 - 200 DM</td>\n",
       "      <td>36</td>\n",
       "      <td>good</td>\n",
       "      <td>car</td>\n",
       "      <td>6948</td>\n",
       "      <td>&lt; 100 DM</td>\n",
       "      <td>1 - 4 years</td>\n",
       "      <td>2</td>\n",
       "      <td>2</td>\n",
       "      <td>35</td>\n",
       "      <td>none</td>\n",
       "      <td>rent</td>\n",
       "      <td>1</td>\n",
       "      <td>management</td>\n",
       "      <td>1</td>\n",
       "      <td>yes</td>\n",
       "      <td>no</td>\n",
       "    </tr>\n",
       "    <tr>\n",
       "      <th>8</th>\n",
       "      <td>unknown</td>\n",
       "      <td>12</td>\n",
       "      <td>good</td>\n",
       "      <td>furniture/appliances</td>\n",
       "      <td>3059</td>\n",
       "      <td>&gt; 1000 DM</td>\n",
       "      <td>4 - 7 years</td>\n",
       "      <td>2</td>\n",
       "      <td>4</td>\n",
       "      <td>61</td>\n",
       "      <td>none</td>\n",
       "      <td>own</td>\n",
       "      <td>1</td>\n",
       "      <td>unskilled</td>\n",
       "      <td>1</td>\n",
       "      <td>no</td>\n",
       "      <td>no</td>\n",
       "    </tr>\n",
       "    <tr>\n",
       "      <th>9</th>\n",
       "      <td>1 - 200 DM</td>\n",
       "      <td>30</td>\n",
       "      <td>critical</td>\n",
       "      <td>car</td>\n",
       "      <td>5234</td>\n",
       "      <td>&lt; 100 DM</td>\n",
       "      <td>unemployed</td>\n",
       "      <td>4</td>\n",
       "      <td>2</td>\n",
       "      <td>28</td>\n",
       "      <td>none</td>\n",
       "      <td>own</td>\n",
       "      <td>2</td>\n",
       "      <td>management</td>\n",
       "      <td>1</td>\n",
       "      <td>no</td>\n",
       "      <td>yes</td>\n",
       "    </tr>\n",
       "  </tbody>\n",
       "</table>\n",
       "</div>"
      ],
      "text/plain": [
       "  checking_balance  months_loan_duration credit_history               purpose  \\\n",
       "0           < 0 DM                     6       critical  furniture/appliances   \n",
       "1       1 - 200 DM                    48           good  furniture/appliances   \n",
       "2          unknown                    12       critical             education   \n",
       "3           < 0 DM                    42           good  furniture/appliances   \n",
       "4           < 0 DM                    24           poor                   car   \n",
       "5          unknown                    36           good             education   \n",
       "6          unknown                    24           good  furniture/appliances   \n",
       "7       1 - 200 DM                    36           good                   car   \n",
       "8          unknown                    12           good  furniture/appliances   \n",
       "9       1 - 200 DM                    30       critical                   car   \n",
       "\n",
       "   amount savings_balance employment_duration  percent_of_income  \\\n",
       "0    1169         unknown           > 7 years                  4   \n",
       "1    5951        < 100 DM         1 - 4 years                  2   \n",
       "2    2096        < 100 DM         4 - 7 years                  2   \n",
       "3    7882        < 100 DM         4 - 7 years                  2   \n",
       "4    4870        < 100 DM         1 - 4 years                  3   \n",
       "5    9055         unknown         1 - 4 years                  2   \n",
       "6    2835   500 - 1000 DM           > 7 years                  3   \n",
       "7    6948        < 100 DM         1 - 4 years                  2   \n",
       "8    3059       > 1000 DM         4 - 7 years                  2   \n",
       "9    5234        < 100 DM          unemployed                  4   \n",
       "\n",
       "   years_at_residence  age other_credit housing  existing_loans_count  \\\n",
       "0                   4   67         none     own                     2   \n",
       "1                   2   22         none     own                     1   \n",
       "2                   3   49         none     own                     1   \n",
       "3                   4   45         none   other                     1   \n",
       "4                   4   53         none   other                     2   \n",
       "5                   4   35         none   other                     1   \n",
       "6                   4   53         none     own                     1   \n",
       "7                   2   35         none    rent                     1   \n",
       "8                   4   61         none     own                     1   \n",
       "9                   2   28         none     own                     2   \n",
       "\n",
       "          job  dependents phone default  \n",
       "0     skilled           1   yes      no  \n",
       "1     skilled           1    no     yes  \n",
       "2   unskilled           2    no      no  \n",
       "3     skilled           2    no      no  \n",
       "4     skilled           2    no     yes  \n",
       "5   unskilled           2   yes      no  \n",
       "6     skilled           1    no      no  \n",
       "7  management           1   yes      no  \n",
       "8   unskilled           1    no      no  \n",
       "9  management           1    no     yes  "
      ]
     },
     "execution_count": 4,
     "metadata": {},
     "output_type": "execute_result"
    }
   ],
   "source": [
    "credit_df.head(10)  "
   ]
  },
  {
   "cell_type": "code",
   "execution_count": 5,
   "metadata": {},
   "outputs": [
    {
     "data": {
      "text/plain": [
       "(1000, 17)"
      ]
     },
     "execution_count": 5,
     "metadata": {},
     "output_type": "execute_result"
    }
   ],
   "source": [
    "credit_df.shape"
   ]
  },
  {
   "cell_type": "code",
   "execution_count": 6,
   "metadata": {
    "scrolled": false
   },
   "outputs": [
    {
     "data": {
      "text/html": [
       "<div>\n",
       "<style scoped>\n",
       "    .dataframe tbody tr th:only-of-type {\n",
       "        vertical-align: middle;\n",
       "    }\n",
       "\n",
       "    .dataframe tbody tr th {\n",
       "        vertical-align: top;\n",
       "    }\n",
       "\n",
       "    .dataframe thead th {\n",
       "        text-align: right;\n",
       "    }\n",
       "</style>\n",
       "<table border=\"1\" class=\"dataframe\">\n",
       "  <thead>\n",
       "    <tr style=\"text-align: right;\">\n",
       "      <th></th>\n",
       "      <th>months_loan_duration</th>\n",
       "      <th>amount</th>\n",
       "      <th>percent_of_income</th>\n",
       "      <th>years_at_residence</th>\n",
       "      <th>age</th>\n",
       "      <th>existing_loans_count</th>\n",
       "      <th>dependents</th>\n",
       "    </tr>\n",
       "  </thead>\n",
       "  <tbody>\n",
       "    <tr>\n",
       "      <th>count</th>\n",
       "      <td>1000.000000</td>\n",
       "      <td>1000.000000</td>\n",
       "      <td>1000.000000</td>\n",
       "      <td>1000.000000</td>\n",
       "      <td>1000.000000</td>\n",
       "      <td>1000.000000</td>\n",
       "      <td>1000.000000</td>\n",
       "    </tr>\n",
       "    <tr>\n",
       "      <th>mean</th>\n",
       "      <td>20.903000</td>\n",
       "      <td>3271.258000</td>\n",
       "      <td>2.973000</td>\n",
       "      <td>2.845000</td>\n",
       "      <td>35.546000</td>\n",
       "      <td>1.407000</td>\n",
       "      <td>1.155000</td>\n",
       "    </tr>\n",
       "    <tr>\n",
       "      <th>std</th>\n",
       "      <td>12.058814</td>\n",
       "      <td>2822.736876</td>\n",
       "      <td>1.118715</td>\n",
       "      <td>1.103718</td>\n",
       "      <td>11.375469</td>\n",
       "      <td>0.577654</td>\n",
       "      <td>0.362086</td>\n",
       "    </tr>\n",
       "    <tr>\n",
       "      <th>min</th>\n",
       "      <td>4.000000</td>\n",
       "      <td>250.000000</td>\n",
       "      <td>1.000000</td>\n",
       "      <td>1.000000</td>\n",
       "      <td>19.000000</td>\n",
       "      <td>1.000000</td>\n",
       "      <td>1.000000</td>\n",
       "    </tr>\n",
       "    <tr>\n",
       "      <th>25%</th>\n",
       "      <td>12.000000</td>\n",
       "      <td>1365.500000</td>\n",
       "      <td>2.000000</td>\n",
       "      <td>2.000000</td>\n",
       "      <td>27.000000</td>\n",
       "      <td>1.000000</td>\n",
       "      <td>1.000000</td>\n",
       "    </tr>\n",
       "    <tr>\n",
       "      <th>50%</th>\n",
       "      <td>18.000000</td>\n",
       "      <td>2319.500000</td>\n",
       "      <td>3.000000</td>\n",
       "      <td>3.000000</td>\n",
       "      <td>33.000000</td>\n",
       "      <td>1.000000</td>\n",
       "      <td>1.000000</td>\n",
       "    </tr>\n",
       "    <tr>\n",
       "      <th>75%</th>\n",
       "      <td>24.000000</td>\n",
       "      <td>3972.250000</td>\n",
       "      <td>4.000000</td>\n",
       "      <td>4.000000</td>\n",
       "      <td>42.000000</td>\n",
       "      <td>2.000000</td>\n",
       "      <td>1.000000</td>\n",
       "    </tr>\n",
       "    <tr>\n",
       "      <th>max</th>\n",
       "      <td>72.000000</td>\n",
       "      <td>18424.000000</td>\n",
       "      <td>4.000000</td>\n",
       "      <td>4.000000</td>\n",
       "      <td>75.000000</td>\n",
       "      <td>4.000000</td>\n",
       "      <td>2.000000</td>\n",
       "    </tr>\n",
       "  </tbody>\n",
       "</table>\n",
       "</div>"
      ],
      "text/plain": [
       "       months_loan_duration        amount  percent_of_income  \\\n",
       "count           1000.000000   1000.000000        1000.000000   \n",
       "mean              20.903000   3271.258000           2.973000   \n",
       "std               12.058814   2822.736876           1.118715   \n",
       "min                4.000000    250.000000           1.000000   \n",
       "25%               12.000000   1365.500000           2.000000   \n",
       "50%               18.000000   2319.500000           3.000000   \n",
       "75%               24.000000   3972.250000           4.000000   \n",
       "max               72.000000  18424.000000           4.000000   \n",
       "\n",
       "       years_at_residence          age  existing_loans_count   dependents  \n",
       "count         1000.000000  1000.000000           1000.000000  1000.000000  \n",
       "mean             2.845000    35.546000              1.407000     1.155000  \n",
       "std              1.103718    11.375469              0.577654     0.362086  \n",
       "min              1.000000    19.000000              1.000000     1.000000  \n",
       "25%              2.000000    27.000000              1.000000     1.000000  \n",
       "50%              3.000000    33.000000              1.000000     1.000000  \n",
       "75%              4.000000    42.000000              2.000000     1.000000  \n",
       "max              4.000000    75.000000              4.000000     2.000000  "
      ]
     },
     "execution_count": 6,
     "metadata": {},
     "output_type": "execute_result"
    }
   ],
   "source": [
    "credit_df.describe()\n"
   ]
  },
  {
   "cell_type": "code",
   "execution_count": 7,
   "metadata": {},
   "outputs": [
    {
     "name": "stdout",
     "output_type": "stream",
     "text": [
      "<class 'pandas.core.frame.DataFrame'>\n",
      "RangeIndex: 1000 entries, 0 to 999\n",
      "Data columns (total 17 columns):\n",
      "checking_balance        1000 non-null object\n",
      "months_loan_duration    1000 non-null int64\n",
      "credit_history          1000 non-null object\n",
      "purpose                 1000 non-null object\n",
      "amount                  1000 non-null int64\n",
      "savings_balance         1000 non-null object\n",
      "employment_duration     1000 non-null object\n",
      "percent_of_income       1000 non-null int64\n",
      "years_at_residence      1000 non-null int64\n",
      "age                     1000 non-null int64\n",
      "other_credit            1000 non-null object\n",
      "housing                 1000 non-null object\n",
      "existing_loans_count    1000 non-null int64\n",
      "job                     1000 non-null object\n",
      "dependents              1000 non-null int64\n",
      "phone                   1000 non-null object\n",
      "default                 1000 non-null object\n",
      "dtypes: int64(7), object(10)\n",
      "memory usage: 132.9+ KB\n"
     ]
    }
   ],
   "source": [
    "credit_df.info()  # many columns are of type object i.e. strings. These need to be converted to ordinal type"
   ]
  },
  {
   "cell_type": "markdown",
   "metadata": {},
   "source": [
    "### 1-Hot-Encoding"
   ]
  },
  {
   "cell_type": "code",
   "execution_count": 8,
   "metadata": {},
   "outputs": [
    {
     "data": {
      "text/plain": [
       "checking_balance        object\n",
       "months_loan_duration     int64\n",
       "credit_history          object\n",
       "purpose                 object\n",
       "amount                   int64\n",
       "savings_balance         object\n",
       "employment_duration     object\n",
       "percent_of_income        int64\n",
       "years_at_residence       int64\n",
       "age                      int64\n",
       "other_credit            object\n",
       "housing                 object\n",
       "existing_loans_count     int64\n",
       "job                     object\n",
       "dependents               int64\n",
       "phone                   object\n",
       "default                 object\n",
       "dtype: object"
      ]
     },
     "execution_count": 8,
     "metadata": {},
     "output_type": "execute_result"
    }
   ],
   "source": [
    "credit_df.dtypes"
   ]
  },
  {
   "cell_type": "code",
   "execution_count": 9,
   "metadata": {},
   "outputs": [],
   "source": [
    "credit_df_mod = pd.get_dummies(credit_df.drop(columns=\"default\"))"
   ]
  },
  {
   "cell_type": "code",
   "execution_count": 10,
   "metadata": {},
   "outputs": [
    {
     "data": {
      "text/plain": [
       "(1000, 44)"
      ]
     },
     "execution_count": 10,
     "metadata": {},
     "output_type": "execute_result"
    }
   ],
   "source": [
    "credit_df_mod.shape"
   ]
  },
  {
   "cell_type": "markdown",
   "metadata": {},
   "source": [
    "### Train-Test Split"
   ]
  },
  {
   "cell_type": "code",
   "execution_count": 11,
   "metadata": {},
   "outputs": [],
   "source": [
    "# capture the target column (\"default\") into separate vectors for training set and test set\n",
    "\n",
    "X = credit_df_mod\n",
    "\n",
    "y = credit_df[\"default\"]\n",
    "\n",
    "\n"
   ]
  },
  {
   "cell_type": "code",
   "execution_count": 12,
   "metadata": {},
   "outputs": [],
   "source": [
    "# splitting data into training and test set for independent attributes\n",
    "from sklearn.model_selection import train_test_split\n",
    "\n",
    "X_train, X_test, y_train, y_test = train_test_split(X, y, test_size=.30, random_state=1)\n"
   ]
  },
  {
   "cell_type": "code",
   "execution_count": 13,
   "metadata": {},
   "outputs": [],
   "source": [
    "y_test_ind = np.where(y_test == \"yes\",1,0)\n",
    "y_train_ind = np.where(y_train == \"yes\",1,0)"
   ]
  },
  {
   "cell_type": "markdown",
   "metadata": {},
   "source": [
    "### Decision Tree Model"
   ]
  },
  {
   "cell_type": "code",
   "execution_count": null,
   "metadata": {},
   "outputs": [],
   "source": [
    "# invoking the decision tree classifier function. Using 'entropy' method of finding the split columns. Other option \n",
    "# could be gini index.  Restricting the depth of the tree to 5 (no particular reason for selecting this)\n",
    "\n",
    "from sklearn.tree import DecisionTreeClassifier                                 \n",
    "dt_model = DecisionTreeClassifier(criterion = 'entropy',max_depth=5,min_impurity_decrease=0.01)"
   ]
  },
  {
   "cell_type": "code",
   "execution_count": null,
   "metadata": {},
   "outputs": [],
   "source": [
    "dt_model.fit(X_train, y_train)"
   ]
  },
  {
   "cell_type": "code",
   "execution_count": null,
   "metadata": {
    "scrolled": true
   },
   "outputs": [],
   "source": [
    "from IPython.display import Image  \n",
    "#import pydotplus as pydot\n",
    "from sklearn import tree\n",
    "from os import system\n",
    "\n",
    "Credit_Tree_File = open('credit_tree.dot','w')\n",
    "dot_data = tree.export_graphviz(dt_model, out_file=Credit_Tree_File, feature_names = list(X_train), \n",
    "                                class_names = list(y_train))\n",
    "\n",
    "Credit_Tree_File.close()\n",
    "\n",
    "\n",
    "# importance of features in the tree building ( The importance of a feature is computed as the \n",
    "#(normalized) total reduction of the criterion brought by that feature. It is also known as the Gini importance )\n",
    "\n",
    "print (pd.DataFrame(dt_model.feature_importances_, columns = [\"Imp\"], index = X_train.columns))\n"
   ]
  },
  {
   "cell_type": "code",
   "execution_count": null,
   "metadata": {
    "scrolled": true
   },
   "outputs": [],
   "source": [
    "# Visualize graph here http://webgraphviz.com/ to get tree view \n",
    "\n"
   ]
  },
  {
   "cell_type": "markdown",
   "metadata": {},
   "source": [
    "### Predict Model Performance"
   ]
  },
  {
   "cell_type": "code",
   "execution_count": null,
   "metadata": {},
   "outputs": [],
   "source": [
    "y_predict_test = dt_model.predict(X_test)\n",
    "y_predict_train = dt_model.predict(X_train)"
   ]
  },
  {
   "cell_type": "code",
   "execution_count": null,
   "metadata": {},
   "outputs": [],
   "source": [
    "from sklearn.metrics import confusion_matrix, accuracy_score"
   ]
  },
  {
   "cell_type": "code",
   "execution_count": null,
   "metadata": {},
   "outputs": [],
   "source": [
    "print(confusion_matrix(y_test, y_predict_test))"
   ]
  },
  {
   "cell_type": "code",
   "execution_count": null,
   "metadata": {},
   "outputs": [],
   "source": [
    "print(\"Train accuracy is\", accuracy_score(y_train,y_predict_train))\n",
    "print(\"Test accuracy is\", accuracy_score(y_test,y_predict_test))"
   ]
  },
  {
   "cell_type": "code",
   "execution_count": null,
   "metadata": {},
   "outputs": [],
   "source": [
    "(166+45)/len(y_test)"
   ]
  },
  {
   "cell_type": "markdown",
   "metadata": {},
   "source": [
    "### In-Class assignment\n",
    "Q1 : What is the test accuracy when the max_depth is set to 10?\n",
    "\n",
    "Q2: If we predict noone will default, what is the accuracy of the model?\n"
   ]
  },
  {
   "cell_type": "markdown",
   "metadata": {},
   "source": [
    "### Predicting probabilities"
   ]
  },
  {
   "cell_type": "code",
   "execution_count": null,
   "metadata": {},
   "outputs": [],
   "source": [
    "y_predict_test = dt_model.predict_proba(X_test)"
   ]
  },
  {
   "cell_type": "code",
   "execution_count": null,
   "metadata": {},
   "outputs": [],
   "source": [
    "dt_model.classes_"
   ]
  },
  {
   "cell_type": "code",
   "execution_count": null,
   "metadata": {},
   "outputs": [],
   "source": [
    "from sklearn.metrics import roc_auc_score"
   ]
  },
  {
   "cell_type": "code",
   "execution_count": null,
   "metadata": {},
   "outputs": [],
   "source": [
    "y_test_ind = np.where(y_test == \"yes\",1,0)\n",
    "y_test_pred_prob = y_predict_test[:,1]"
   ]
  },
  {
   "cell_type": "code",
   "execution_count": null,
   "metadata": {},
   "outputs": [],
   "source": [
    "roc_auc_score(y_test_ind,y_test_pred_prob)"
   ]
  },
  {
   "cell_type": "markdown",
   "metadata": {},
   "source": [
    "#                             Ensemble Learning - Bagging"
   ]
  },
  {
   "cell_type": "code",
   "execution_count": null,
   "metadata": {},
   "outputs": [],
   "source": [
    "from sklearn.ensemble import BaggingClassifier\n",
    "\n",
    "bgcl = BaggingClassifier(base_estimator=dt_model, n_estimators=500)\n",
    "bgcl = bgcl.fit(X_train, y_train)\n"
   ]
  },
  {
   "cell_type": "code",
   "execution_count": null,
   "metadata": {},
   "outputs": [],
   "source": [
    "y_predict_prob_bgc = bgcl.predict_proba(X_test)[:,1]"
   ]
  },
  {
   "cell_type": "code",
   "execution_count": null,
   "metadata": {},
   "outputs": [],
   "source": [
    "roc_auc_score(y_test_ind,y_predict_prob_bgc)"
   ]
  },
  {
   "cell_type": "markdown",
   "metadata": {},
   "source": [
    "# Ensemble RandomForest Classifier"
   ]
  },
  {
   "cell_type": "code",
   "execution_count": 52,
   "metadata": {},
   "outputs": [],
   "source": [
    "from sklearn.ensemble import RandomForestClassifier\n",
    "rfcl = RandomForestClassifier(n_estimators = 5,max_depth=None,random_state=1)\n",
    "rfcl = rfcl.fit(X_train, y_train)\n"
   ]
  },
  {
   "cell_type": "code",
   "execution_count": 53,
   "metadata": {},
   "outputs": [],
   "source": [
    "y_pred_test = rfcl.predict_proba(X_test)[:,1]\n",
    "y_pred_train = rfcl.predict_proba(X_train)[:,1]\n"
   ]
  },
  {
   "cell_type": "code",
   "execution_count": 54,
   "metadata": {},
   "outputs": [
    {
     "name": "stdout",
     "output_type": "stream",
     "text": [
      "train auc is 0.9899955770931887\n"
     ]
    }
   ],
   "source": [
    "from sklearn.metrics import roc_auc_score\n",
    "print(\"train auc is\",roc_auc_score(y_train_ind,y_pred_train))"
   ]
  },
  {
   "cell_type": "code",
   "execution_count": 55,
   "metadata": {},
   "outputs": [
    {
     "name": "stdout",
     "output_type": "stream",
     "text": [
      "test auc is 0.7237828732884156\n"
     ]
    }
   ],
   "source": [
    "print(\"test auc is\",roc_auc_score(y_test_ind,y_pred_test))"
   ]
  },
  {
   "cell_type": "markdown",
   "metadata": {},
   "source": [
    "<b> What happens as we adjust the values of n_estimators and max_depth? \n",
    " What is the impact on train and test accuracy? </b>"
   ]
  },
  {
   "cell_type": "markdown",
   "metadata": {},
   "source": [
    "## Cross Validation and Grid Search <a name=\"cv_grid_search\"></a>\n",
    "\n",
    "We should be careful not to use our Test set for model tuning/selection etc, since then the whole objective of having a test set as a measure of how well our model generalizes is lost.\n",
    "\n",
    "Rather, the preferred approach is to use Cross Validation on our Training set, for Hyper parameter tuning and model selection.\n"
   ]
  },
  {
   "cell_type": "code",
   "execution_count": 56,
   "metadata": {},
   "outputs": [
    {
     "data": {
      "text/plain": [
       "array([0.6486711 , 0.66614721, 0.6171182 , 0.75893071, 0.68753068])"
      ]
     },
     "execution_count": 56,
     "metadata": {},
     "output_type": "execute_result"
    }
   ],
   "source": [
    "from sklearn.model_selection import cross_val_score\n",
    "cross_val_results = cross_val_score(rfcl, X_train, y_train, cv=5, scoring = \"roc_auc\")\n",
    "cross_val_results"
   ]
  },
  {
   "cell_type": "code",
   "execution_count": 57,
   "metadata": {},
   "outputs": [
    {
     "name": "stdout",
     "output_type": "stream",
     "text": [
      "average cross validated auc is -  0.6756795789521755\n"
     ]
    }
   ],
   "source": [
    "print(\"average cross validated auc is - \", np.mean(cross_val_results))"
   ]
  },
  {
   "cell_type": "code",
   "execution_count": 58,
   "metadata": {},
   "outputs": [
    {
     "name": "stdout",
     "output_type": "stream",
     "text": [
      "Max score achieved 0.7890764928089947\n",
      "Optimal value of Max Depth Hyperparameter -  6\n",
      "Optimal value of Trees -  200\n"
     ]
    }
   ],
   "source": [
    "\n",
    "from sklearn.model_selection import GridSearchCV\n",
    "parameters= {'n_estimators' : [100,200,500], 'max_depth' : [4,6,8,10,20,None]}\n",
    "\n",
    "rf_grid_search = GridSearchCV(RandomForestClassifier(), parameters, scoring='roc_auc', cv = 5)\n",
    "rf_grid_search.fit(X_train,y_train)\n",
    "grid_search_results = rf_grid_search.cv_results_\n",
    "print(\"Max score achieved\",rf_grid_search.best_score_)\n",
    "print(\"Optimal value of Max Depth Hyperparameter - \",rf_grid_search.best_estimator_.max_depth)\n",
    "print(\"Optimal value of Trees - \", rf_grid_search.best_estimator_.n_estimators)"
   ]
  },
  {
   "cell_type": "code",
   "execution_count": 59,
   "metadata": {},
   "outputs": [],
   "source": [
    "## Understanding OOB accuracy\n",
    "\n",
    "rfcl = RandomForestClassifier(n_estimators = 500,oob_score=True)\n",
    "rfcl = rfcl.fit(X_train, y_train)"
   ]
  },
  {
   "cell_type": "code",
   "execution_count": null,
   "metadata": {},
   "outputs": [],
   "source": [
    "rfcl.oob_score_"
   ]
  },
  {
   "cell_type": "code",
   "execution_count": null,
   "metadata": {},
   "outputs": [],
   "source": [
    "print(\"OOB auc is\",roc_auc_score(y_train_ind, rfcl.oob_decision_function_[:,1]))"
   ]
  },
  {
   "cell_type": "code",
   "execution_count": null,
   "metadata": {},
   "outputs": [],
   "source": [
    "# How does changing the value of max_depth impact train and test set performance?"
   ]
  },
  {
   "cell_type": "code",
   "execution_count": null,
   "metadata": {},
   "outputs": [],
   "source": []
  }
 ],
 "metadata": {
  "kernelspec": {
   "display_name": "Python 3",
   "language": "python",
   "name": "python3"
  },
  "language_info": {
   "codemirror_mode": {
    "name": "ipython",
    "version": 3
   },
   "file_extension": ".py",
   "mimetype": "text/x-python",
   "name": "python",
   "nbconvert_exporter": "python",
   "pygments_lexer": "ipython3",
   "version": "3.5.5"
  }
 },
 "nbformat": 4,
 "nbformat_minor": 2
}
